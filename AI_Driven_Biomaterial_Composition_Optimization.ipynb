{
  "nbformat": 4,
  "nbformat_minor": 0,
  "metadata": {
    "colab": {
      "provenance": []
    },
    "kernelspec": {
      "name": "python3",
      "display_name": "Python 3"
    },
    "language_info": {
      "name": "python"
    }
  },
  "cells": [
    {
      "cell_type": "markdown",
      "source": [
        "### Code to Generate Complex Dataset:"
      ],
      "metadata": {
        "id": "30v-kvxZwMEG"
      }
    },
    {
      "cell_type": "code",
      "source": [
        "import numpy as np\n",
        "import pandas as pd\n",
        "\n",
        "# Define the number of samples\n",
        "num_samples = 50000\n",
        "\n",
        "# Simulate material composition (starch, cellulose, plasticizers, crosslinking agents)\n",
        "starch = np.random.uniform(10, 70, num_samples)  # Starch percentage (10% to 70%)\n",
        "cellulose = np.random.uniform(10, 70, num_samples)  # Cellulose percentage (10% to 70%)\n",
        "plasticizers = np.random.uniform(0, 30, num_samples)  # Plasticizers percentage (0% to 30%)\n",
        "crosslinking_agents = np.random.uniform(0, 20, num_samples)  # Crosslinking agents (0% to 20%)\n",
        "\n",
        "# Simulate processing conditions\n",
        "print_temp = np.random.uniform(180, 250, num_samples)  # Printing temperature (180°C to 250°C)\n",
        "print_speed = np.random.uniform(10, 40, num_samples)  # Print speed (10 to 40 mm/s)\n",
        "curing_time = np.random.uniform(30, 120, num_samples)  # Curing time (30 to 120 mins)\n",
        "\n",
        "# Simulate environmental conditions\n",
        "humidity = np.random.uniform(30, 80, num_samples)  # Humidity percentage (30% to 80%)\n",
        "uv_exposure = np.random.uniform(0, 1, num_samples)  # UV exposure (0 to 1, where 1 is high)\n",
        "\n",
        "# Define the relationships for tensile strength (complex and nonlinear)\n",
        "tensile_strength = (\n",
        "    0.4 * starch + 0.3 * cellulose + 0.1 * plasticizers + 0.15 * crosslinking_agents +\n",
        "    0.2 * print_temp + 0.25 * print_speed - 0.1 * curing_time +\n",
        "    np.random.normal(0, 5, num_samples)  # Add some noise to simulate real-world data\n",
        ")\n",
        "\n",
        "# Define the relationships for biodegradability (complex and nonlinear)\n",
        "biodegradability = (\n",
        "    0.3 * cellulose + 0.2 * plasticizers + 0.1 * crosslinking_agents + 0.1 * uv_exposure -\n",
        "    0.15 * humidity + np.random.normal(0, 0.05, num_samples)  # Small noise for biodegradability\n",
        ")\n",
        "\n",
        "# Ensure biodegradability stays within [0, 1]\n",
        "biodegradability = np.clip(biodegradability, 0, 1)\n",
        "\n",
        "# Create the DataFrame\n",
        "df = pd.DataFrame({\n",
        "    'starch': starch,\n",
        "    'cellulose': cellulose,\n",
        "    'plasticizers': plasticizers,\n",
        "    'crosslinking_agents': crosslinking_agents,\n",
        "    'print_temp': print_temp,\n",
        "    'print_speed': print_speed,\n",
        "    'curing_time': curing_time,\n",
        "    'humidity': humidity,\n",
        "    'uv_exposure': uv_exposure,\n",
        "    'tensile_strength': tensile_strength,\n",
        "    'biodegradability': biodegradability\n",
        "})\n",
        "\n",
        "# Save to CSV\n",
        "df.to_csv('biomaterial_data_advanced.csv', index=False)\n",
        "\n",
        "# Display the first few rows of the dataset\n",
        "print(df.head())"
      ],
      "metadata": {
        "colab": {
          "base_uri": "https://localhost:8080/"
        },
        "id": "Julb48zqoEJV",
        "outputId": "620de521-5de5-452a-e312-403278d63f46"
      },
      "execution_count": 1,
      "outputs": [
        {
          "output_type": "stream",
          "name": "stdout",
          "text": [
            "      starch  cellulose  plasticizers  crosslinking_agents  print_temp  \\\n",
            "0  23.257871  14.613711      5.048073            13.433439  204.406778   \n",
            "1  59.507443  58.628008      4.002132             2.469423  192.735216   \n",
            "2  60.533357  40.794222     22.252380            18.806266  219.388454   \n",
            "3  31.751917  65.980201     15.978237             9.975782  235.105591   \n",
            "4  63.779884  51.797805     20.706775            19.203655  249.424658   \n",
            "\n",
            "   print_speed  curing_time   humidity  uv_exposure  tensile_strength  \\\n",
            "0    26.183285    40.218769  79.341252     0.368190         56.468548   \n",
            "1    25.233816    72.543732  30.327928     0.611608         78.146229   \n",
            "2    25.993177    38.050111  73.769347     0.069774         85.313235   \n",
            "3    38.995147   107.793779  47.363734     0.937230         83.293780   \n",
            "4    35.291157    64.607157  73.047438     0.079954        101.178874   \n",
            "\n",
            "   biodegradability  \n",
            "0               0.0  \n",
            "1               1.0  \n",
            "2               1.0  \n",
            "3               1.0  \n",
            "4               1.0  \n"
          ]
        }
      ]
    },
    {
      "cell_type": "markdown",
      "source": [
        "### Training the Model\n"
      ],
      "metadata": {
        "id": "6UwnzSgP261b"
      }
    },
    {
      "cell_type": "code",
      "source": [
        "from sklearn.model_selection import train_test_split\n",
        "from sklearn.preprocessing import StandardScaler\n",
        "from sklearn.impute import SimpleImputer\n",
        "\n",
        "# Load the dataset\n",
        "# df = pd.read_csv('biomaterial_data_advanced.csv')\n",
        "\n",
        "# Split features (X) and target variables (y)\n",
        "X = df.drop(columns=['tensile_strength', 'biodegradability'])\n",
        "y_strength = df['tensile_strength']\n",
        "y_biodegradability = df['biodegradability']\n",
        "\n",
        "# Handle missing values (if any) using SimpleImputer\n",
        "imputer = SimpleImputer(strategy='mean')\n",
        "X_imputed = imputer.fit_transform(X)\n",
        "\n",
        "# Scale the features\n",
        "scaler = StandardScaler()\n",
        "X_scaled = scaler.fit_transform(X_imputed)\n",
        "\n",
        "# Split the data into training and testing sets (80% train, 20% test)\n",
        "X_train, X_test, y_train_strength, y_test_strength, y_train_biodegradability, y_test_biodegradability = train_test_split(\n",
        "    X_scaled,  # Features\n",
        "    y_strength,  # First target variable (tensile_strength)\n",
        "    y_biodegradability,  # Second target variable (biodegradability)\n",
        "    test_size=0.2,  # 80% for training, 20% for testing\n",
        "    random_state=42  # For reproducibility\n",
        ")\n",
        "\n",
        "# Print out the shape of the training and test sets to verify\n",
        "print(f\"Training data shape: {X_train.shape}\")\n",
        "print(f\"Test data shape: {X_test.shape}\")\n"
      ],
      "metadata": {
        "colab": {
          "base_uri": "https://localhost:8080/"
        },
        "id": "8b5wRG99t74w",
        "outputId": "9998a896-744c-4294-c36f-a63593a9dd6c"
      },
      "execution_count": 2,
      "outputs": [
        {
          "output_type": "stream",
          "name": "stdout",
          "text": [
            "Training data shape: (40000, 9)\n",
            "Test data shape: (10000, 9)\n"
          ]
        }
      ]
    },
    {
      "cell_type": "code",
      "source": [
        "y_train_strength"
      ],
      "metadata": {
        "colab": {
          "base_uri": "https://localhost:8080/",
          "height": 458
        },
        "id": "9G5aoBmGxpMy",
        "outputId": "a23cd121-34b3-4026-f061-41c3bfabe345"
      },
      "execution_count": 3,
      "outputs": [
        {
          "output_type": "execute_result",
          "data": {
            "text/plain": [
              "39087    95.320199\n",
              "30893    53.608833\n",
              "45278    72.971623\n",
              "16398    84.813145\n",
              "13653    74.511347\n",
              "           ...    \n",
              "11284    63.363827\n",
              "44732    64.299443\n",
              "38158    51.111860\n",
              "860      95.321944\n",
              "15795    63.105362\n",
              "Name: tensile_strength, Length: 40000, dtype: float64"
            ],
            "text/html": [
              "<div>\n",
              "<style scoped>\n",
              "    .dataframe tbody tr th:only-of-type {\n",
              "        vertical-align: middle;\n",
              "    }\n",
              "\n",
              "    .dataframe tbody tr th {\n",
              "        vertical-align: top;\n",
              "    }\n",
              "\n",
              "    .dataframe thead th {\n",
              "        text-align: right;\n",
              "    }\n",
              "</style>\n",
              "<table border=\"1\" class=\"dataframe\">\n",
              "  <thead>\n",
              "    <tr style=\"text-align: right;\">\n",
              "      <th></th>\n",
              "      <th>tensile_strength</th>\n",
              "    </tr>\n",
              "  </thead>\n",
              "  <tbody>\n",
              "    <tr>\n",
              "      <th>39087</th>\n",
              "      <td>95.320199</td>\n",
              "    </tr>\n",
              "    <tr>\n",
              "      <th>30893</th>\n",
              "      <td>53.608833</td>\n",
              "    </tr>\n",
              "    <tr>\n",
              "      <th>45278</th>\n",
              "      <td>72.971623</td>\n",
              "    </tr>\n",
              "    <tr>\n",
              "      <th>16398</th>\n",
              "      <td>84.813145</td>\n",
              "    </tr>\n",
              "    <tr>\n",
              "      <th>13653</th>\n",
              "      <td>74.511347</td>\n",
              "    </tr>\n",
              "    <tr>\n",
              "      <th>...</th>\n",
              "      <td>...</td>\n",
              "    </tr>\n",
              "    <tr>\n",
              "      <th>11284</th>\n",
              "      <td>63.363827</td>\n",
              "    </tr>\n",
              "    <tr>\n",
              "      <th>44732</th>\n",
              "      <td>64.299443</td>\n",
              "    </tr>\n",
              "    <tr>\n",
              "      <th>38158</th>\n",
              "      <td>51.111860</td>\n",
              "    </tr>\n",
              "    <tr>\n",
              "      <th>860</th>\n",
              "      <td>95.321944</td>\n",
              "    </tr>\n",
              "    <tr>\n",
              "      <th>15795</th>\n",
              "      <td>63.105362</td>\n",
              "    </tr>\n",
              "  </tbody>\n",
              "</table>\n",
              "<p>40000 rows × 1 columns</p>\n",
              "</div><br><label><b>dtype:</b> float64</label>"
            ]
          },
          "metadata": {},
          "execution_count": 3
        }
      ]
    },
    {
      "cell_type": "code",
      "source": [
        "y_train_biodegradability"
      ],
      "metadata": {
        "colab": {
          "base_uri": "https://localhost:8080/",
          "height": 458
        },
        "id": "5ZuKAyl0zJyE",
        "outputId": "ba48a06b-d9f5-4b6c-d766-ec436e0c7d8b"
      },
      "execution_count": 4,
      "outputs": [
        {
          "output_type": "execute_result",
          "data": {
            "text/plain": [
              "39087    1.0\n",
              "30893    0.0\n",
              "45278    1.0\n",
              "16398    1.0\n",
              "13653    1.0\n",
              "        ... \n",
              "11284    1.0\n",
              "44732    1.0\n",
              "38158    1.0\n",
              "860      1.0\n",
              "15795    1.0\n",
              "Name: biodegradability, Length: 40000, dtype: float64"
            ],
            "text/html": [
              "<div>\n",
              "<style scoped>\n",
              "    .dataframe tbody tr th:only-of-type {\n",
              "        vertical-align: middle;\n",
              "    }\n",
              "\n",
              "    .dataframe tbody tr th {\n",
              "        vertical-align: top;\n",
              "    }\n",
              "\n",
              "    .dataframe thead th {\n",
              "        text-align: right;\n",
              "    }\n",
              "</style>\n",
              "<table border=\"1\" class=\"dataframe\">\n",
              "  <thead>\n",
              "    <tr style=\"text-align: right;\">\n",
              "      <th></th>\n",
              "      <th>biodegradability</th>\n",
              "    </tr>\n",
              "  </thead>\n",
              "  <tbody>\n",
              "    <tr>\n",
              "      <th>39087</th>\n",
              "      <td>1.0</td>\n",
              "    </tr>\n",
              "    <tr>\n",
              "      <th>30893</th>\n",
              "      <td>0.0</td>\n",
              "    </tr>\n",
              "    <tr>\n",
              "      <th>45278</th>\n",
              "      <td>1.0</td>\n",
              "    </tr>\n",
              "    <tr>\n",
              "      <th>16398</th>\n",
              "      <td>1.0</td>\n",
              "    </tr>\n",
              "    <tr>\n",
              "      <th>13653</th>\n",
              "      <td>1.0</td>\n",
              "    </tr>\n",
              "    <tr>\n",
              "      <th>...</th>\n",
              "      <td>...</td>\n",
              "    </tr>\n",
              "    <tr>\n",
              "      <th>11284</th>\n",
              "      <td>1.0</td>\n",
              "    </tr>\n",
              "    <tr>\n",
              "      <th>44732</th>\n",
              "      <td>1.0</td>\n",
              "    </tr>\n",
              "    <tr>\n",
              "      <th>38158</th>\n",
              "      <td>1.0</td>\n",
              "    </tr>\n",
              "    <tr>\n",
              "      <th>860</th>\n",
              "      <td>1.0</td>\n",
              "    </tr>\n",
              "    <tr>\n",
              "      <th>15795</th>\n",
              "      <td>1.0</td>\n",
              "    </tr>\n",
              "  </tbody>\n",
              "</table>\n",
              "<p>40000 rows × 1 columns</p>\n",
              "</div><br><label><b>dtype:</b> float64</label>"
            ]
          },
          "metadata": {},
          "execution_count": 4
        }
      ]
    },
    {
      "cell_type": "markdown",
      "source": [
        "### Model Trainning"
      ],
      "metadata": {
        "id": "iAKNe7LrzkRY"
      }
    },
    {
      "cell_type": "code",
      "source": [
        "from sklearn.ensemble import RandomForestRegressor\n",
        "from sklearn.metrics import mean_squared_error, r2_score\n",
        "\n",
        "# Initialize Random Forest models for both targets\n",
        "model_strength = RandomForestRegressor(n_estimators=100, random_state=42)\n",
        "model_biodegradability = RandomForestRegressor(n_estimators=100, random_state=42)\n",
        "\n",
        "# Train the model for tensile strength (y_strength)\n",
        "model_strength.fit(X_train, y_train_strength)\n",
        "\n",
        "# Train the model for biodegradability (y_biodegradability)\n",
        "model_biodegradability.fit(X_train, y_train_biodegradability)\n",
        "\n",
        "# Make predictions on the test set\n",
        "y_pred_strength = model_strength.predict(X_test)\n",
        "y_pred_biodegradability = model_biodegradability.predict(X_test)\n",
        "\n",
        "# Evaluate the models using MSE and R² for both targets\n",
        "\n",
        "# Tensile Strength Model Evaluation\n",
        "mse_strength = mean_squared_error(y_test_strength, y_pred_strength)\n",
        "r2_strength = r2_score(y_test_strength, y_pred_strength)\n",
        "\n",
        "# Biodegradability Model Evaluation\n",
        "mse_biodegradability = mean_squared_error(y_test_biodegradability, y_pred_biodegradability)\n",
        "r2_biodegradability = r2_score(y_test_biodegradability, y_pred_biodegradability)\n",
        "\n",
        "# Print evaluation results\n",
        "print(\"Tensile Strength Model Evaluation:\")\n",
        "print(f\"MSE: {mse_strength}\")\n",
        "print(f\"R²: {r2_strength}\")\n",
        "\n",
        "print(\"\\nBiodegradability Model Evaluation:\")\n",
        "print(f\"MSE: {mse_biodegradability}\")\n",
        "print(f\"R²: {r2_biodegradability}\")"
      ],
      "metadata": {
        "colab": {
          "base_uri": "https://localhost:8080/"
        },
        "id": "YdFg55jjzNV-",
        "outputId": "05c2fb4e-7536-4b8f-ef36-9078eb1b86ce"
      },
      "execution_count": 5,
      "outputs": [
        {
          "output_type": "stream",
          "name": "stdout",
          "text": [
            "Tensile Strength Model Evaluation:\n",
            "MSE: 26.405538188406762\n",
            "R²: 0.7941907146331364\n",
            "\n",
            "Biodegradability Model Evaluation:\n",
            "MSE: 0.004027962096860426\n",
            "R²: 0.9596506171346904\n"
          ]
        }
      ]
    },
    {
      "cell_type": "markdown",
      "source": [
        "### DNN Model"
      ],
      "metadata": {
        "id": "4vmnCwPVcxAq"
      }
    },
    {
      "cell_type": "code",
      "source": [
        "import tensorflow as tf\n",
        "from tensorflow.keras import Sequential\n",
        "from tensorflow.keras.layers import Dense\n",
        "from sklearn.preprocessing import StandardScaler\n",
        "from sklearn.metrics import mean_squared_error, r2_score"
      ],
      "metadata": {
        "id": "KPtT_r_Ez5pv"
      },
      "execution_count": 6,
      "outputs": []
    },
    {
      "cell_type": "code",
      "source": [
        "# DNN Model for Tensile Strength\n",
        "model_strength = Sequential([\n",
        "    Dense(64, input_dim=X_train.shape[1], activation='relu'),  # First hidden layer\n",
        "    Dense(64, activation='relu'),  # Second hidden layer\n",
        "    Dense(1)  # Output layer (single neuron for regression)\n",
        "])\n",
        "\n",
        "# Compile the model\n",
        "model_strength.compile(optimizer='adam', loss='mean_squared_error')\n",
        "\n",
        "# DNN Model for Biodegradability\n",
        "model_biodegradability = Sequential([\n",
        "    Dense(64, input_dim=X_train.shape[1], activation='relu'),  # First hidden layer\n",
        "    Dense(64, activation='relu'),  # Second hidden layer\n",
        "    Dense(1)  # Output layer (single neuron for regression)\n",
        "])\n",
        "\n",
        "# Compile the model\n",
        "model_biodegradability.compile(optimizer='adam', loss='mean_squared_error')"
      ],
      "metadata": {
        "colab": {
          "base_uri": "https://localhost:8080/"
        },
        "id": "aw60vh6aF0f1",
        "outputId": "1788045b-18b0-47f2-cab1-cd4a7f4c3193"
      },
      "execution_count": 7,
      "outputs": [
        {
          "output_type": "stream",
          "name": "stderr",
          "text": [
            "/usr/local/lib/python3.11/dist-packages/keras/src/layers/core/dense.py:87: UserWarning: Do not pass an `input_shape`/`input_dim` argument to a layer. When using Sequential models, prefer using an `Input(shape)` object as the first layer in the model instead.\n",
            "  super().__init__(activity_regularizer=activity_regularizer, **kwargs)\n"
          ]
        }
      ]
    },
    {
      "cell_type": "code",
      "source": [
        "# Train the tensile strength model\n",
        "history_strength = model_strength.fit(X_train, y_train_strength, epochs=40, batch_size=32, validation_data=(X_test, y_test_strength))\n",
        "\n",
        "# Train the biodegradability model\n",
        "history_biodegradability = model_biodegradability.fit(X_train, y_train_biodegradability, epochs=40, batch_size=32, validation_data=(X_test, y_test_biodegradability))\n"
      ],
      "metadata": {
        "colab": {
          "base_uri": "https://localhost:8080/"
        },
        "id": "thbJBNqPF4pB",
        "outputId": "cf5aa344-c319-4e3e-bc7f-df31764ee30d"
      },
      "execution_count": 8,
      "outputs": [
        {
          "output_type": "stream",
          "name": "stdout",
          "text": [
            "Epoch 1/40\n",
            "\u001b[1m1250/1250\u001b[0m \u001b[32m━━━━━━━━━━━━━━━━━━━━\u001b[0m\u001b[37m\u001b[0m \u001b[1m5s\u001b[0m 3ms/step - loss: 1419.2136 - val_loss: 57.5258\n",
            "Epoch 2/40\n",
            "\u001b[1m1250/1250\u001b[0m \u001b[32m━━━━━━━━━━━━━━━━━━━━\u001b[0m\u001b[37m\u001b[0m \u001b[1m3s\u001b[0m 2ms/step - loss: 48.4181 - val_loss: 30.9872\n",
            "Epoch 3/40\n",
            "\u001b[1m1250/1250\u001b[0m \u001b[32m━━━━━━━━━━━━━━━━━━━━\u001b[0m\u001b[37m\u001b[0m \u001b[1m7s\u001b[0m 4ms/step - loss: 29.5543 - val_loss: 26.1618\n",
            "Epoch 4/40\n",
            "\u001b[1m1250/1250\u001b[0m \u001b[32m━━━━━━━━━━━━━━━━━━━━\u001b[0m\u001b[37m\u001b[0m \u001b[1m3s\u001b[0m 2ms/step - loss: 26.8216 - val_loss: 25.1496\n",
            "Epoch 5/40\n",
            "\u001b[1m1250/1250\u001b[0m \u001b[32m━━━━━━━━━━━━━━━━━━━━\u001b[0m\u001b[37m\u001b[0m \u001b[1m3s\u001b[0m 3ms/step - loss: 25.9917 - val_loss: 24.6376\n",
            "Epoch 6/40\n",
            "\u001b[1m1250/1250\u001b[0m \u001b[32m━━━━━━━━━━━━━━━━━━━━\u001b[0m\u001b[37m\u001b[0m \u001b[1m3s\u001b[0m 2ms/step - loss: 25.8340 - val_loss: 24.9782\n",
            "Epoch 7/40\n",
            "\u001b[1m1250/1250\u001b[0m \u001b[32m━━━━━━━━━━━━━━━━━━━━\u001b[0m\u001b[37m\u001b[0m \u001b[1m5s\u001b[0m 2ms/step - loss: 25.6158 - val_loss: 25.3287\n",
            "Epoch 8/40\n",
            "\u001b[1m1250/1250\u001b[0m \u001b[32m━━━━━━━━━━━━━━━━━━━━\u001b[0m\u001b[37m\u001b[0m \u001b[1m3s\u001b[0m 2ms/step - loss: 26.0548 - val_loss: 25.8836\n",
            "Epoch 9/40\n",
            "\u001b[1m1250/1250\u001b[0m \u001b[32m━━━━━━━━━━━━━━━━━━━━\u001b[0m\u001b[37m\u001b[0m \u001b[1m7s\u001b[0m 4ms/step - loss: 25.9563 - val_loss: 25.1503\n",
            "Epoch 10/40\n",
            "\u001b[1m1250/1250\u001b[0m \u001b[32m━━━━━━━━━━━━━━━━━━━━\u001b[0m\u001b[37m\u001b[0m \u001b[1m3s\u001b[0m 3ms/step - loss: 25.6740 - val_loss: 25.7614\n",
            "Epoch 11/40\n",
            "\u001b[1m1250/1250\u001b[0m \u001b[32m━━━━━━━━━━━━━━━━━━━━\u001b[0m\u001b[37m\u001b[0m \u001b[1m3s\u001b[0m 3ms/step - loss: 25.5266 - val_loss: 25.3421\n",
            "Epoch 12/40\n",
            "\u001b[1m1250/1250\u001b[0m \u001b[32m━━━━━━━━━━━━━━━━━━━━\u001b[0m\u001b[37m\u001b[0m \u001b[1m6s\u001b[0m 4ms/step - loss: 25.7646 - val_loss: 25.0166\n",
            "Epoch 13/40\n",
            "\u001b[1m1250/1250\u001b[0m \u001b[32m━━━━━━━━━━━━━━━━━━━━\u001b[0m\u001b[37m\u001b[0m \u001b[1m3s\u001b[0m 3ms/step - loss: 25.5492 - val_loss: 25.6043\n",
            "Epoch 14/40\n",
            "\u001b[1m1250/1250\u001b[0m \u001b[32m━━━━━━━━━━━━━━━━━━━━\u001b[0m\u001b[37m\u001b[0m \u001b[1m3s\u001b[0m 2ms/step - loss: 25.8207 - val_loss: 24.4599\n",
            "Epoch 15/40\n",
            "\u001b[1m1250/1250\u001b[0m \u001b[32m━━━━━━━━━━━━━━━━━━━━\u001b[0m\u001b[37m\u001b[0m \u001b[1m6s\u001b[0m 4ms/step - loss: 25.5481 - val_loss: 24.8011\n",
            "Epoch 16/40\n",
            "\u001b[1m1250/1250\u001b[0m \u001b[32m━━━━━━━━━━━━━━━━━━━━\u001b[0m\u001b[37m\u001b[0m \u001b[1m4s\u001b[0m 3ms/step - loss: 25.5753 - val_loss: 24.5744\n",
            "Epoch 17/40\n",
            "\u001b[1m1250/1250\u001b[0m \u001b[32m━━━━━━━━━━━━━━━━━━━━\u001b[0m\u001b[37m\u001b[0m \u001b[1m3s\u001b[0m 2ms/step - loss: 25.5495 - val_loss: 25.7990\n",
            "Epoch 18/40\n",
            "\u001b[1m1250/1250\u001b[0m \u001b[32m━━━━━━━━━━━━━━━━━━━━\u001b[0m\u001b[37m\u001b[0m \u001b[1m3s\u001b[0m 3ms/step - loss: 25.6591 - val_loss: 26.0084\n",
            "Epoch 19/40\n",
            "\u001b[1m1250/1250\u001b[0m \u001b[32m━━━━━━━━━━━━━━━━━━━━\u001b[0m\u001b[37m\u001b[0m \u001b[1m5s\u001b[0m 2ms/step - loss: 25.8779 - val_loss: 25.6616\n",
            "Epoch 20/40\n",
            "\u001b[1m1250/1250\u001b[0m \u001b[32m━━━━━━━━━━━━━━━━━━━━\u001b[0m\u001b[37m\u001b[0m \u001b[1m5s\u001b[0m 2ms/step - loss: 25.3455 - val_loss: 24.9625\n",
            "Epoch 21/40\n",
            "\u001b[1m1250/1250\u001b[0m \u001b[32m━━━━━━━━━━━━━━━━━━━━\u001b[0m\u001b[37m\u001b[0m \u001b[1m5s\u001b[0m 4ms/step - loss: 25.6151 - val_loss: 24.7386\n",
            "Epoch 22/40\n",
            "\u001b[1m1250/1250\u001b[0m \u001b[32m━━━━━━━━━━━━━━━━━━━━\u001b[0m\u001b[37m\u001b[0m \u001b[1m4s\u001b[0m 2ms/step - loss: 25.5413 - val_loss: 25.0678\n",
            "Epoch 23/40\n",
            "\u001b[1m1250/1250\u001b[0m \u001b[32m━━━━━━━━━━━━━━━━━━━━\u001b[0m\u001b[37m\u001b[0m \u001b[1m3s\u001b[0m 2ms/step - loss: 25.6643 - val_loss: 24.9086\n",
            "Epoch 24/40\n",
            "\u001b[1m1250/1250\u001b[0m \u001b[32m━━━━━━━━━━━━━━━━━━━━\u001b[0m\u001b[37m\u001b[0m \u001b[1m3s\u001b[0m 2ms/step - loss: 25.6643 - val_loss: 24.4619\n",
            "Epoch 25/40\n",
            "\u001b[1m1250/1250\u001b[0m \u001b[32m━━━━━━━━━━━━━━━━━━━━\u001b[0m\u001b[37m\u001b[0m \u001b[1m4s\u001b[0m 3ms/step - loss: 25.4957 - val_loss: 24.4638\n",
            "Epoch 26/40\n",
            "\u001b[1m1250/1250\u001b[0m \u001b[32m━━━━━━━━━━━━━━━━━━━━\u001b[0m\u001b[37m\u001b[0m \u001b[1m4s\u001b[0m 2ms/step - loss: 25.6818 - val_loss: 24.8148\n",
            "Epoch 27/40\n",
            "\u001b[1m1250/1250\u001b[0m \u001b[32m━━━━━━━━━━━━━━━━━━━━\u001b[0m\u001b[37m\u001b[0m \u001b[1m3s\u001b[0m 2ms/step - loss: 25.7836 - val_loss: 24.8703\n",
            "Epoch 28/40\n",
            "\u001b[1m1250/1250\u001b[0m \u001b[32m━━━━━━━━━━━━━━━━━━━━\u001b[0m\u001b[37m\u001b[0m \u001b[1m4s\u001b[0m 3ms/step - loss: 25.5794 - val_loss: 25.0255\n",
            "Epoch 29/40\n",
            "\u001b[1m1250/1250\u001b[0m \u001b[32m━━━━━━━━━━━━━━━━━━━━\u001b[0m\u001b[37m\u001b[0m \u001b[1m3s\u001b[0m 3ms/step - loss: 25.5605 - val_loss: 25.1783\n",
            "Epoch 30/40\n",
            "\u001b[1m1250/1250\u001b[0m \u001b[32m━━━━━━━━━━━━━━━━━━━━\u001b[0m\u001b[37m\u001b[0m \u001b[1m3s\u001b[0m 2ms/step - loss: 25.6240 - val_loss: 24.7276\n",
            "Epoch 31/40\n",
            "\u001b[1m1250/1250\u001b[0m \u001b[32m━━━━━━━━━━━━━━━━━━━━\u001b[0m\u001b[37m\u001b[0m \u001b[1m6s\u001b[0m 3ms/step - loss: 25.3995 - val_loss: 25.2545\n",
            "Epoch 32/40\n",
            "\u001b[1m1250/1250\u001b[0m \u001b[32m━━━━━━━━━━━━━━━━━━━━\u001b[0m\u001b[37m\u001b[0m \u001b[1m4s\u001b[0m 2ms/step - loss: 25.4139 - val_loss: 24.5569\n",
            "Epoch 33/40\n",
            "\u001b[1m1250/1250\u001b[0m \u001b[32m━━━━━━━━━━━━━━━━━━━━\u001b[0m\u001b[37m\u001b[0m \u001b[1m3s\u001b[0m 3ms/step - loss: 25.6505 - val_loss: 25.5841\n",
            "Epoch 34/40\n",
            "\u001b[1m1250/1250\u001b[0m \u001b[32m━━━━━━━━━━━━━━━━━━━━\u001b[0m\u001b[37m\u001b[0m \u001b[1m3s\u001b[0m 3ms/step - loss: 25.2591 - val_loss: 24.4446\n",
            "Epoch 35/40\n",
            "\u001b[1m1250/1250\u001b[0m \u001b[32m━━━━━━━━━━━━━━━━━━━━\u001b[0m\u001b[37m\u001b[0m \u001b[1m5s\u001b[0m 3ms/step - loss: 25.3158 - val_loss: 24.7595\n",
            "Epoch 36/40\n",
            "\u001b[1m1250/1250\u001b[0m \u001b[32m━━━━━━━━━━━━━━━━━━━━\u001b[0m\u001b[37m\u001b[0m \u001b[1m3s\u001b[0m 3ms/step - loss: 25.6019 - val_loss: 24.5947\n",
            "Epoch 37/40\n",
            "\u001b[1m1250/1250\u001b[0m \u001b[32m━━━━━━━━━━━━━━━━━━━━\u001b[0m\u001b[37m\u001b[0m \u001b[1m6s\u001b[0m 3ms/step - loss: 24.9215 - val_loss: 25.2556\n",
            "Epoch 38/40\n",
            "\u001b[1m1250/1250\u001b[0m \u001b[32m━━━━━━━━━━━━━━━━━━━━\u001b[0m\u001b[37m\u001b[0m \u001b[1m3s\u001b[0m 3ms/step - loss: 25.3436 - val_loss: 25.9301\n",
            "Epoch 39/40\n",
            "\u001b[1m1250/1250\u001b[0m \u001b[32m━━━━━━━━━━━━━━━━━━━━\u001b[0m\u001b[37m\u001b[0m \u001b[1m5s\u001b[0m 2ms/step - loss: 25.6932 - val_loss: 24.4828\n",
            "Epoch 40/40\n",
            "\u001b[1m1250/1250\u001b[0m \u001b[32m━━━━━━━━━━━━━━━━━━━━\u001b[0m\u001b[37m\u001b[0m \u001b[1m4s\u001b[0m 3ms/step - loss: 25.5529 - val_loss: 24.6508\n",
            "Epoch 1/40\n",
            "\u001b[1m1250/1250\u001b[0m \u001b[32m━━━━━━━━━━━━━━━━━━━━\u001b[0m\u001b[37m\u001b[0m \u001b[1m4s\u001b[0m 3ms/step - loss: 0.1074 - val_loss: 0.0159\n",
            "Epoch 2/40\n",
            "\u001b[1m1250/1250\u001b[0m \u001b[32m━━━━━━━━━━━━━━━━━━━━\u001b[0m\u001b[37m\u001b[0m \u001b[1m5s\u001b[0m 2ms/step - loss: 0.0156 - val_loss: 0.0110\n",
            "Epoch 3/40\n",
            "\u001b[1m1250/1250\u001b[0m \u001b[32m━━━━━━━━━━━━━━━━━━━━\u001b[0m\u001b[37m\u001b[0m \u001b[1m5s\u001b[0m 2ms/step - loss: 0.0105 - val_loss: 0.0069\n",
            "Epoch 4/40\n",
            "\u001b[1m1250/1250\u001b[0m \u001b[32m━━━━━━━━━━━━━━━━━━━━\u001b[0m\u001b[37m\u001b[0m \u001b[1m5s\u001b[0m 3ms/step - loss: 0.0057 - val_loss: 0.0029\n",
            "Epoch 5/40\n",
            "\u001b[1m1250/1250\u001b[0m \u001b[32m━━━━━━━━━━━━━━━━━━━━\u001b[0m\u001b[37m\u001b[0m \u001b[1m4s\u001b[0m 3ms/step - loss: 0.0024 - val_loss: 0.0014\n",
            "Epoch 6/40\n",
            "\u001b[1m1250/1250\u001b[0m \u001b[32m━━━━━━━━━━━━━━━━━━━━\u001b[0m\u001b[37m\u001b[0m \u001b[1m4s\u001b[0m 3ms/step - loss: 9.8035e-04 - val_loss: 4.8040e-04\n",
            "Epoch 7/40\n",
            "\u001b[1m1250/1250\u001b[0m \u001b[32m━━━━━━━━━━━━━━━━━━━━\u001b[0m\u001b[37m\u001b[0m \u001b[1m5s\u001b[0m 3ms/step - loss: 6.4015e-04 - val_loss: 6.8913e-04\n",
            "Epoch 8/40\n",
            "\u001b[1m1250/1250\u001b[0m \u001b[32m━━━━━━━━━━━━━━━━━━━━\u001b[0m\u001b[37m\u001b[0m \u001b[1m5s\u001b[0m 4ms/step - loss: 4.6911e-04 - val_loss: 7.4470e-04\n",
            "Epoch 9/40\n",
            "\u001b[1m1250/1250\u001b[0m \u001b[32m━━━━━━━━━━━━━━━━━━━━\u001b[0m\u001b[37m\u001b[0m \u001b[1m3s\u001b[0m 2ms/step - loss: 4.8475e-04 - val_loss: 4.1529e-04\n",
            "Epoch 10/40\n",
            "\u001b[1m1250/1250\u001b[0m \u001b[32m━━━━━━━━━━━━━━━━━━━━\u001b[0m\u001b[37m\u001b[0m \u001b[1m3s\u001b[0m 3ms/step - loss: 4.1806e-04 - val_loss: 2.4131e-04\n",
            "Epoch 11/40\n",
            "\u001b[1m1250/1250\u001b[0m \u001b[32m━━━━━━━━━━━━━━━━━━━━\u001b[0m\u001b[37m\u001b[0m \u001b[1m6s\u001b[0m 3ms/step - loss: 4.5713e-04 - val_loss: 2.0457e-04\n",
            "Epoch 12/40\n",
            "\u001b[1m1250/1250\u001b[0m \u001b[32m━━━━━━━━━━━━━━━━━━━━\u001b[0m\u001b[37m\u001b[0m \u001b[1m3s\u001b[0m 2ms/step - loss: 4.2219e-04 - val_loss: 3.3997e-04\n",
            "Epoch 13/40\n",
            "\u001b[1m1250/1250\u001b[0m \u001b[32m━━━━━━━━━━━━━━━━━━━━\u001b[0m\u001b[37m\u001b[0m \u001b[1m3s\u001b[0m 2ms/step - loss: 3.8494e-04 - val_loss: 3.5691e-04\n",
            "Epoch 14/40\n",
            "\u001b[1m1250/1250\u001b[0m \u001b[32m━━━━━━━━━━━━━━━━━━━━\u001b[0m\u001b[37m\u001b[0m \u001b[1m3s\u001b[0m 2ms/step - loss: 4.0247e-04 - val_loss: 2.4488e-04\n",
            "Epoch 15/40\n",
            "\u001b[1m1250/1250\u001b[0m \u001b[32m━━━━━━━━━━━━━━━━━━━━\u001b[0m\u001b[37m\u001b[0m \u001b[1m4s\u001b[0m 3ms/step - loss: 3.0925e-04 - val_loss: 2.9712e-04\n",
            "Epoch 16/40\n",
            "\u001b[1m1250/1250\u001b[0m \u001b[32m━━━━━━━━━━━━━━━━━━━━\u001b[0m\u001b[37m\u001b[0m \u001b[1m4s\u001b[0m 3ms/step - loss: 3.7874e-04 - val_loss: 3.6467e-04\n",
            "Epoch 17/40\n",
            "\u001b[1m1250/1250\u001b[0m \u001b[32m━━━━━━━━━━━━━━━━━━━━\u001b[0m\u001b[37m\u001b[0m \u001b[1m5s\u001b[0m 3ms/step - loss: 3.1791e-04 - val_loss: 4.1013e-04\n",
            "Epoch 18/40\n",
            "\u001b[1m1250/1250\u001b[0m \u001b[32m━━━━━━━━━━━━━━━━━━━━\u001b[0m\u001b[37m\u001b[0m \u001b[1m4s\u001b[0m 3ms/step - loss: 3.2824e-04 - val_loss: 1.8605e-04\n",
            "Epoch 19/40\n",
            "\u001b[1m1250/1250\u001b[0m \u001b[32m━━━━━━━━━━━━━━━━━━━━\u001b[0m\u001b[37m\u001b[0m \u001b[1m3s\u001b[0m 3ms/step - loss: 3.5184e-04 - val_loss: 2.2889e-04\n",
            "Epoch 20/40\n",
            "\u001b[1m1250/1250\u001b[0m \u001b[32m━━━━━━━━━━━━━━━━━━━━\u001b[0m\u001b[37m\u001b[0m \u001b[1m3s\u001b[0m 2ms/step - loss: 3.3057e-04 - val_loss: 2.2784e-04\n",
            "Epoch 21/40\n",
            "\u001b[1m1250/1250\u001b[0m \u001b[32m━━━━━━━━━━━━━━━━━━━━\u001b[0m\u001b[37m\u001b[0m \u001b[1m4s\u001b[0m 3ms/step - loss: 3.4422e-04 - val_loss: 2.5323e-04\n",
            "Epoch 22/40\n",
            "\u001b[1m1250/1250\u001b[0m \u001b[32m━━━━━━━━━━━━━━━━━━━━\u001b[0m\u001b[37m\u001b[0m \u001b[1m4s\u001b[0m 2ms/step - loss: 2.9865e-04 - val_loss: 2.4594e-04\n",
            "Epoch 23/40\n",
            "\u001b[1m1250/1250\u001b[0m \u001b[32m━━━━━━━━━━━━━━━━━━━━\u001b[0m\u001b[37m\u001b[0m \u001b[1m4s\u001b[0m 3ms/step - loss: 3.2741e-04 - val_loss: 2.3076e-04\n",
            "Epoch 24/40\n",
            "\u001b[1m1250/1250\u001b[0m \u001b[32m━━━━━━━━━━━━━━━━━━━━\u001b[0m\u001b[37m\u001b[0m \u001b[1m4s\u001b[0m 3ms/step - loss: 3.7804e-04 - val_loss: 2.2711e-04\n",
            "Epoch 25/40\n",
            "\u001b[1m1250/1250\u001b[0m \u001b[32m━━━━━━━━━━━━━━━━━━━━\u001b[0m\u001b[37m\u001b[0m \u001b[1m3s\u001b[0m 3ms/step - loss: 2.6966e-04 - val_loss: 2.3313e-04\n",
            "Epoch 26/40\n",
            "\u001b[1m1250/1250\u001b[0m \u001b[32m━━━━━━━━━━━━━━━━━━━━\u001b[0m\u001b[37m\u001b[0m \u001b[1m3s\u001b[0m 3ms/step - loss: 2.9940e-04 - val_loss: 2.5162e-04\n",
            "Epoch 27/40\n",
            "\u001b[1m1250/1250\u001b[0m \u001b[32m━━━━━━━━━━━━━━━━━━━━\u001b[0m\u001b[37m\u001b[0m \u001b[1m7s\u001b[0m 4ms/step - loss: 3.1520e-04 - val_loss: 3.6203e-04\n",
            "Epoch 28/40\n",
            "\u001b[1m1250/1250\u001b[0m \u001b[32m━━━━━━━━━━━━━━━━━━━━\u001b[0m\u001b[37m\u001b[0m \u001b[1m3s\u001b[0m 3ms/step - loss: 3.1239e-04 - val_loss: 2.5569e-04\n",
            "Epoch 29/40\n",
            "\u001b[1m1250/1250\u001b[0m \u001b[32m━━━━━━━━━━━━━━━━━━━━\u001b[0m\u001b[37m\u001b[0m \u001b[1m5s\u001b[0m 3ms/step - loss: 2.5827e-04 - val_loss: 3.0220e-04\n",
            "Epoch 30/40\n",
            "\u001b[1m1250/1250\u001b[0m \u001b[32m━━━━━━━━━━━━━━━━━━━━\u001b[0m\u001b[37m\u001b[0m \u001b[1m5s\u001b[0m 4ms/step - loss: 2.8554e-04 - val_loss: 6.9643e-04\n",
            "Epoch 31/40\n",
            "\u001b[1m1250/1250\u001b[0m \u001b[32m━━━━━━━━━━━━━━━━━━━━\u001b[0m\u001b[37m\u001b[0m \u001b[1m3s\u001b[0m 3ms/step - loss: 2.7935e-04 - val_loss: 2.0931e-04\n",
            "Epoch 32/40\n",
            "\u001b[1m1250/1250\u001b[0m \u001b[32m━━━━━━━━━━━━━━━━━━━━\u001b[0m\u001b[37m\u001b[0m \u001b[1m5s\u001b[0m 3ms/step - loss: 3.0164e-04 - val_loss: 2.8683e-04\n",
            "Epoch 33/40\n",
            "\u001b[1m1250/1250\u001b[0m \u001b[32m━━━━━━━━━━━━━━━━━━━━\u001b[0m\u001b[37m\u001b[0m \u001b[1m5s\u001b[0m 4ms/step - loss: 2.6601e-04 - val_loss: 3.0532e-04\n",
            "Epoch 34/40\n",
            "\u001b[1m1250/1250\u001b[0m \u001b[32m━━━━━━━━━━━━━━━━━━━━\u001b[0m\u001b[37m\u001b[0m \u001b[1m3s\u001b[0m 3ms/step - loss: 2.7914e-04 - val_loss: 1.5570e-04\n",
            "Epoch 35/40\n",
            "\u001b[1m1250/1250\u001b[0m \u001b[32m━━━━━━━━━━━━━━━━━━━━\u001b[0m\u001b[37m\u001b[0m \u001b[1m5s\u001b[0m 2ms/step - loss: 2.2092e-04 - val_loss: 5.1497e-04\n",
            "Epoch 36/40\n",
            "\u001b[1m1250/1250\u001b[0m \u001b[32m━━━━━━━━━━━━━━━━━━━━\u001b[0m\u001b[37m\u001b[0m \u001b[1m4s\u001b[0m 3ms/step - loss: 2.8051e-04 - val_loss: 3.7926e-04\n",
            "Epoch 37/40\n",
            "\u001b[1m1250/1250\u001b[0m \u001b[32m━━━━━━━━━━━━━━━━━━━━\u001b[0m\u001b[37m\u001b[0m \u001b[1m3s\u001b[0m 2ms/step - loss: 3.2918e-04 - val_loss: 3.9019e-04\n",
            "Epoch 38/40\n",
            "\u001b[1m1250/1250\u001b[0m \u001b[32m━━━━━━━━━━━━━━━━━━━━\u001b[0m\u001b[37m\u001b[0m \u001b[1m5s\u001b[0m 3ms/step - loss: 2.7940e-04 - val_loss: 1.6493e-04\n",
            "Epoch 39/40\n",
            "\u001b[1m1250/1250\u001b[0m \u001b[32m━━━━━━━━━━━━━━━━━━━━\u001b[0m\u001b[37m\u001b[0m \u001b[1m6s\u001b[0m 5ms/step - loss: 2.4473e-04 - val_loss: 2.0333e-04\n",
            "Epoch 40/40\n",
            "\u001b[1m1250/1250\u001b[0m \u001b[32m━━━━━━━━━━━━━━━━━━━━\u001b[0m\u001b[37m\u001b[0m \u001b[1m7s\u001b[0m 3ms/step - loss: 2.4677e-04 - val_loss: 4.6257e-04\n"
          ]
        }
      ]
    },
    {
      "cell_type": "code",
      "source": [
        "# Predict with the tensile strength model\n",
        "y_pred_strength_nn = model_strength.predict(X_test)\n",
        "\n",
        "# Predict with the biodegradability model\n",
        "y_pred_biodegradability_nn = model_biodegradability.predict(X_test)\n",
        "\n",
        "# Evaluate the tensile strength model\n",
        "mse_strength_nn = mean_squared_error(y_test_strength, y_pred_strength_nn)\n",
        "r2_strength_nn = r2_score(y_test_strength, y_pred_strength_nn)\n",
        "\n",
        "# Evaluate the biodegradability model\n",
        "mse_biodegradability_nn = mean_squared_error(y_test_biodegradability, y_pred_biodegradability_nn)\n",
        "r2_biodegradability_nn = r2_score(y_test_biodegradability, y_pred_biodegradability_nn)\n",
        "\n",
        "# Print results\n",
        "print(\"Tensile Strength Model (DNN) Evaluation:\")\n",
        "print(f\"MSE: {mse_strength_nn}\")\n",
        "print(f\"R²: {r2_strength_nn}\")\n",
        "\n",
        "print(\"\\nBiodegradability Model (DNN) Evaluation:\")\n",
        "print(f\"MSE: {mse_biodegradability_nn}\")\n",
        "print(f\"R²: {r2_biodegradability_nn}\")"
      ],
      "metadata": {
        "colab": {
          "base_uri": "https://localhost:8080/"
        },
        "id": "5v1SPq2GHrgC",
        "outputId": "3fad3903-b027-4ad5-8ec9-a2abfa3f16ec"
      },
      "execution_count": 9,
      "outputs": [
        {
          "output_type": "stream",
          "name": "stdout",
          "text": [
            "\u001b[1m313/313\u001b[0m \u001b[32m━━━━━━━━━━━━━━━━━━━━\u001b[0m\u001b[37m\u001b[0m \u001b[1m0s\u001b[0m 1ms/step\n",
            "\u001b[1m313/313\u001b[0m \u001b[32m━━━━━━━━━━━━━━━━━━━━\u001b[0m\u001b[37m\u001b[0m \u001b[1m1s\u001b[0m 1ms/step\n",
            "Tensile Strength Model (DNN) Evaluation:\n",
            "MSE: 24.650833590972564\n",
            "R²: 0.8078671826774968\n",
            "\n",
            "Biodegradability Model (DNN) Evaluation:\n",
            "MSE: 0.00046256694397858153\n",
            "R²: 0.9953663191771402\n"
          ]
        }
      ]
    },
    {
      "cell_type": "code",
      "source": [
        "# Plotting the training history for tensile strength\n",
        "import matplotlib.pyplot as plt\n",
        "\n",
        "plt.plot(history_strength.history['loss'], label='Training Loss')\n",
        "plt.plot(history_strength.history['val_loss'], label='Validation Loss')\n",
        "plt.title('Tensile Strength Model - Training and Validation Loss')\n",
        "plt.xlabel('Epochs')\n",
        "plt.ylabel('Loss')\n",
        "plt.legend()\n",
        "plt.show()\n",
        "\n",
        "# Plotting the training history for biodegradability\n",
        "plt.plot(history_biodegradability.history['loss'], label='Training Loss')\n",
        "plt.plot(history_biodegradability.history['val_loss'], label='Validation Loss')\n",
        "plt.title('Biodegradability Model - Training and Validation Loss')\n",
        "plt.xlabel('Epochs')\n",
        "plt.ylabel('Loss')\n",
        "plt.legend()\n",
        "plt.show()"
      ],
      "metadata": {
        "colab": {
          "base_uri": "https://localhost:8080/",
          "height": 927
        },
        "id": "2U5xI47mIE7Z",
        "outputId": "2edb9b84-5fce-41f9-d07a-5a2ee2506918"
      },
      "execution_count": 10,
      "outputs": [
        {
          "output_type": "display_data",
          "data": {
            "text/plain": [
              "<Figure size 640x480 with 1 Axes>"
            ],
            "image/png": "[encoded data removed]"
          },
          "metadata": {}
        },
        {
          "output_type": "display_data",
          "data": {
            "text/plain": [
              "<Figure size 640x480 with 1 Axes>"
            ],
            "image/png": "[encoded data removed]"
          },
          "metadata": {}
        }
      ]
    },
    {
      "cell_type": "markdown",
      "source": [
        "### Save The Best Models"
      ],
      "metadata": {
        "id": "Dw_PwEQKhUDY"
      }
    },
    {
      "cell_type": "code",
      "source": [
        "model_strength.save('model_strength_nn.keras')\n",
        "model_biodegradability.save('model_biodegradability_nn.keras')"
      ],
      "metadata": {
        "id": "ojIED7ZJIPq2"
      },
      "execution_count": 13,
      "outputs": []
    },
    {
      "cell_type": "code",
      "source": [],
      "metadata": {
        "id": "dI0fkIQmhYfs"
      },
      "execution_count": null,
      "outputs": []
    }
  ]
}